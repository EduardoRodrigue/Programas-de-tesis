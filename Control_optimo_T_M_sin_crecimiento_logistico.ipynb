{
  "nbformat": 4,
  "nbformat_minor": 0,
  "metadata": {
    "colab": {
      "name": "Control optimo T-M sin crecimiento logistico.ipynb",
      "provenance": [],
      "collapsed_sections": []
    },
    "kernelspec": {
      "display_name": "Python 3",
      "name": "python3"
    }
  },
  "cells": [
    {
      "cell_type": "markdown",
      "metadata": {
        "id": "XiYbo26LVuKf"
      },
      "source": [
        "Partiendo del sistema\n",
        "\n",
        "$\\dot T = aT - kT (1 - \\exp(-M))$\n",
        "\n",
        "$\\dot M = - \\gamma M + v_m$\n",
        "\n",
        "Aproximando la exponencial en serie de Taylor a segundo término\n",
        "\n",
        "$\\dot T = aT - kMT$\n",
        "\n",
        "$\\dot M = - \\gamma M + v_m$\n"
      ]
    },
    {
      "cell_type": "markdown",
      "metadata": {
        "id": "688DrvDXUpYy"
      },
      "source": [
        "Para este sistema tenemos el Hamiltoniano:\n",
        "\n",
        "$\\mathscr{H} = x_1 + u + \\lambda_1 (ax_1 -k x_1 x_2) + \\lambda_2 (- \\gamma x_2 + u)$\n",
        "\n",
        "Con las condiciones siguientes condiciones\n",
        "\n",
        "$\\frac{\\partial \\mathscr{H}}{\\partial \\lambda_i} = \\dot x_i$\n",
        "\n",
        "$- \\frac{\\partial \\mathscr{H}}{\\partial x_i} = \\dot \\lambda_i$\n",
        "\n",
        "$\\frac{\\partial \\mathscr{H}}{\\partial u} = 0$"
      ]
    },
    {
      "cell_type": "markdown",
      "metadata": {
        "id": "lzT6P_v9AJWm"
      },
      "source": [
        "El sistema de ecuaciones a resolver es: \n",
        "\n",
        "$\\frac{dx_{1}}{dt} = a x_{1} - kx_{1}x_{2}$\n",
        "\n",
        "$\\frac{dx_{2}}{dt} = -\\gamma x_{2} + u$\n",
        "\n",
        "$\\frac{d \\lambda_{1}}{dt}  = \\lambda_{1}( kx_2 - a) -1$\n",
        "\n",
        "$\\frac{d \\lambda_{2}}{dt} = \\lambda_1 kx_1 + \\lambda_2 \\gamma$\n",
        "\n",
        "$\\lambda_2 = -1$\n",
        "\n",
        "\n",
        "Sujeto a las condiciones\n",
        "\n",
        "$x_{1}(0) = 2e7$\n",
        "\n",
        "$x_{2}(0) = 0$\n",
        "\n",
        "\n",
        "\n",
        "\n",
        "\n"
      ]
    },
    {
      "cell_type": "code",
      "metadata": {
        "id": "1WOeeWtJDwl0"
      },
      "source": [
        "import sympy as sym\n"
      ],
      "execution_count": null,
      "outputs": []
    },
    {
      "cell_type": "code",
      "metadata": {
        "id": "aup50DzlDwmP"
      },
      "source": [
        "sym.init_printing()"
      ],
      "execution_count": null,
      "outputs": []
    },
    {
      "cell_type": "markdown",
      "metadata": {
        "id": "pf4CBsu_Zo9g"
      },
      "source": [
        "Iniciaremos resolviendo la segunda ecuación del sistema.\n",
        "\n",
        "$\\frac{dx_{2}}{dt} = -\\gamma x_{2} + u$"
      ]
    },
    {
      "cell_type": "code",
      "metadata": {
        "id": "LLAg5alCYKBO",
        "colab": {
          "base_uri": "https://localhost:8080/",
          "height": 52
        },
        "outputId": "37a03894-6ded-44e2-e891-f80ebe610135"
      },
      "source": [
        "t,g, u = sym.symbols('t, gamma, u')\n",
        "x2 = sym.Function('x2')(t)\n",
        "dx2dt = x2.diff(t)\n",
        "segunec = sym.Eq(dx2dt, -g*x2 + u)\n",
        "segunec"
      ],
      "execution_count": null,
      "outputs": [
        {
          "output_type": "execute_result",
          "data": {
            "image/png": "[encoded data removed]",
            "text/latex": "$\\displaystyle \\frac{d}{d t} \\operatorname{x_{2}}{\\left(t \\right)} = - \\gamma \\operatorname{x_{2}}{\\left(t \\right)} + u$",
            "text/plain": [
              "d                       \n",
              "──(x₂(t)) = -γ⋅x₂(t) + u\n",
              "dt                      "
            ]
          },
          "metadata": {
            "tags": []
          },
          "execution_count": 3
        }
      ]
    },
    {
      "cell_type": "code",
      "metadata": {
        "id": "JmP1v8ocZbPF",
        "colab": {
          "base_uri": "https://localhost:8080/",
          "height": 58
        },
        "outputId": "31eba83d-719d-4351-d5bc-3133af396c3e"
      },
      "source": [
        "sym.dsolve(segunec)"
      ],
      "execution_count": null,
      "outputs": [
        {
          "output_type": "execute_result",
          "data": {
            "image/png": "[encoded data removed]",
            "text/latex": "$\\displaystyle \\operatorname{x_{2}}{\\left(t \\right)} = \\frac{u + e^{\\gamma \\left(C_{1} - t\\right)}}{\\gamma}$",
            "text/plain": [
              "             γ⋅(C₁ - t)\n",
              "        u + ℯ          \n",
              "x₂(t) = ───────────────\n",
              "               γ       "
            ]
          },
          "metadata": {
            "tags": []
          },
          "execution_count": 4
        }
      ]
    },
    {
      "cell_type": "markdown",
      "metadata": {
        "id": "JoOlQOvPU7c3"
      },
      "source": [
        "Resolviendo la segunda ecuación, tenemos que \n",
        "\n",
        "$x_{2} = \\frac{u}{\\gamma} + k_{1}e^{-\\gamma t}$\n",
        "\n",
        "Aplicando la condición inicial $x_2 (0) = 0$\n",
        "\n",
        "$x_2 (t) = \\frac{u}{\\gamma}(1 -  e^{-\\gamma t}) $\n",
        "\n"
      ]
    },
    {
      "cell_type": "code",
      "metadata": {
        "id": "kpa2F0sZVx6h",
        "colab": {
          "base_uri": "https://localhost:8080/",
          "height": 57
        },
        "outputId": "7912f826-91d3-4c33-c301-7e8ed3ffd820"
      },
      "source": [
        "X2 = u/g * (1-sym.exp(-g*t))\n",
        "X2\n"
      ],
      "execution_count": null,
      "outputs": [
        {
          "output_type": "execute_result",
          "data": {
            "image/png": "[encoded data removed]",
            "text/latex": "$\\displaystyle \\frac{u \\left(1 - e^{- \\gamma t}\\right)}{\\gamma}$",
            "text/plain": [
              "  ⎛     -γ⋅t⎞\n",
              "u⋅⎝1 - ℯ    ⎠\n",
              "─────────────\n",
              "      γ      "
            ]
          },
          "metadata": {
            "tags": []
          },
          "execution_count": 5
        }
      ]
    },
    {
      "cell_type": "markdown",
      "metadata": {
        "id": "udwel_XFXydW"
      },
      "source": [
        "Resolveremos, ahora, la primera ecuación del sistema\n",
        "\n",
        "$\\frac{dx_{1}}{dt} = a x_{1} - kx_{1}x_{2}$\n",
        "\n",
        "Usando el valor obtenido para $x_{2}$"
      ]
    },
    {
      "cell_type": "code",
      "metadata": {
        "id": "QVMFeQmTSbb8",
        "colab": {
          "base_uri": "https://localhost:8080/",
          "height": 57
        },
        "outputId": "b8a607db-29dc-4061-b633-252f9308c69d"
      },
      "source": [
        "a,b,k = sym.symbols('a,b,k')\n",
        "x1 = sym.Function('x1')(t)\n",
        "dx1dt = x1.diff(t)\n",
        "primec = sym.Eq(dx1dt, a*x1 - k*x1*X2)\n",
        "\n",
        "\n",
        "primec"
      ],
      "execution_count": null,
      "outputs": [
        {
          "output_type": "execute_result",
          "data": {
            "image/png": "[encoded data removed]",
            "text/latex": "$\\displaystyle \\frac{d}{d t} \\operatorname{x_{1}}{\\left(t \\right)} = a \\operatorname{x_{1}}{\\left(t \\right)} - \\frac{k u \\left(1 - e^{- \\gamma t}\\right) \\operatorname{x_{1}}{\\left(t \\right)}}{\\gamma}$",
            "text/plain": [
              "                          ⎛     -γ⋅t⎞      \n",
              "d                     k⋅u⋅⎝1 - ℯ    ⎠⋅x₁(t)\n",
              "──(x₁(t)) = a⋅x₁(t) - ─────────────────────\n",
              "dt                              γ          "
            ]
          },
          "metadata": {
            "tags": []
          },
          "execution_count": 6
        }
      ]
    },
    {
      "cell_type": "code",
      "metadata": {
        "id": "sSc1o5Btcemt",
        "colab": {
          "base_uri": "https://localhost:8080/",
          "height": 71
        },
        "outputId": "30c3a48a-3c00-4053-f73b-3ac2d83570e8"
      },
      "source": [
        "z1 = sym.dsolve(primec)\n",
        "z1"
      ],
      "execution_count": null,
      "outputs": [
        {
          "output_type": "execute_result",
          "data": {
            "text/latex": "$\\displaystyle \\operatorname{x_{1}}{\\left(t \\right)} = \\begin{cases} e^{C_{1} + a t - \\frac{k t u}{\\gamma} - \\frac{k u e^{- \\gamma t}}{\\gamma^{2}}} & \\text{for}\\: \\gamma^{2} \\neq 0 \\\\e^{C_{1} + a t} & \\text{otherwise} \\end{cases}$",
            "text/plain": [
              "        ⎧                         -γ⋅t            \n",
              "        ⎪            k⋅t⋅u   k⋅u⋅ℯ                \n",
              "        ⎪ C₁ + a⋅t - ───── - ─────────            \n",
              "        ⎪              γ          2               \n",
              "x₁(t) = ⎨                        γ           2    \n",
              "        ⎪ℯ                              for γ  ≠ 0\n",
              "        ⎪                                         \n",
              "        ⎪           C₁ + a⋅t                      \n",
              "        ⎩          ℯ                    otherwise "
            ]
          },
          "metadata": {
            "tags": []
          },
          "execution_count": 7
        }
      ]
    },
    {
      "cell_type": "markdown",
      "metadata": {
        "id": "hI-MxmJuwf-V"
      },
      "source": [
        "Como $\\gamma^{2} \\neq 0$, entonces tenemos que \n",
        "\n",
        "$x_1 (t) = k_1 e^{at} e^{- \\frac{ktu}{\\gamma}} e^{- \\frac{ku e^{- \\gamma t}}{\\gamma^{2}}}$\n",
        "\n",
        "Aplicando la condición inicial $x_1 (0) = 2 \\times 10^{7}$\n",
        "\n",
        "$k1 = 2 \\times 10^{7}$\n",
        "\n",
        "Mantendremos $k_1$ como una constante.\n"
      ]
    },
    {
      "cell_type": "markdown",
      "metadata": {
        "id": "FVM3xOKbLByN"
      },
      "source": [
        "Ahora se resolverá por el control $u$"
      ]
    },
    {
      "cell_type": "code",
      "metadata": {
        "id": "TIuCyBdYISF5"
      },
      "source": [
        "\n",
        "import sympy as sym\n",
        "sym.init_printing()\n",
        "u,g, t, k1, a, k = sym.symbols('u, gamma, t, k1, a, k')"
      ],
      "execution_count": null,
      "outputs": []
    },
    {
      "cell_type": "code",
      "metadata": {
        "id": "9SXoTCTc_QD_"
      },
      "source": [
        "X2 = u/g * (1-sym.exp(-g*t))\n",
        "X1 = k1*sym.exp(a*t) * sym.exp(-k*u*t/g) * sym.exp(-k*u*sym.exp(-g*t)/g**2)\n"
      ],
      "execution_count": null,
      "outputs": []
    },
    {
      "cell_type": "code",
      "metadata": {
        "colab": {
          "base_uri": "https://localhost:8080/",
          "height": 57
        },
        "id": "XCMzR5G5nKW9",
        "outputId": "7e957ac7-0425-4859-cef9-222d80b32af0"
      },
      "source": [
        "X2"
      ],
      "execution_count": null,
      "outputs": [
        {
          "output_type": "execute_result",
          "data": {
            "image/png": "[encoded data removed]",
            "text/latex": "$\\displaystyle \\frac{u \\left(1 - e^{- \\gamma t}\\right)}{\\gamma}$",
            "text/plain": [
              "  ⎛     -γ⋅t⎞\n",
              "u⋅⎝1 - ℯ    ⎠\n",
              "─────────────\n",
              "      γ      "
            ]
          },
          "metadata": {
            "tags": []
          },
          "execution_count": 3
        }
      ]
    },
    {
      "cell_type": "code",
      "metadata": {
        "colab": {
          "base_uri": "https://localhost:8080/",
          "height": 45
        },
        "id": "GFDtpRkAnLpD",
        "outputId": "d6f3bd15-c75d-469d-866a-0f086922a23a"
      },
      "source": [
        "X1"
      ],
      "execution_count": null,
      "outputs": [
        {
          "output_type": "execute_result",
          "data": {
            "image/png": "[encoded data removed]",
            "text/latex": "$\\displaystyle k_{1} e^{a t} e^{- \\frac{k u e^{- \\gamma t}}{\\gamma^{2}}} e^{- \\frac{k t u}{\\gamma}}$",
            "text/plain": [
              "               -γ⋅t          \n",
              "         -k⋅u⋅ℯ              \n",
              "         ───────────  -k⋅t⋅u \n",
              "               2      ───────\n",
              "    a⋅t       γ          γ   \n",
              "k₁⋅ℯ   ⋅ℯ           ⋅ℯ       "
            ]
          },
          "metadata": {
            "tags": []
          },
          "execution_count": 4
        }
      ]
    },
    {
      "cell_type": "code",
      "metadata": {
        "colab": {
          "base_uri": "https://localhost:8080/",
          "height": 79
        },
        "id": "_JnB7xRBJSTM",
        "outputId": "f4f1e40f-1199-4c79-f69b-77c8fa05f3d2"
      },
      "source": [
        "ecuaciondeu = sym.Eq(((k*X2 - a)/X1)*2*g/k, 1)\n",
        "ecuaciondeu"
      ],
      "execution_count": null,
      "outputs": [
        {
          "output_type": "execute_result",
          "data": {
            "image/png": "[encoded data removed]",
            "text/latex": "$\\displaystyle \\frac{2 \\gamma \\left(- a + \\frac{k u \\left(1 - e^{- \\gamma t}\\right)}{\\gamma}\\right) e^{- a t} e^{\\frac{k u e^{- \\gamma t}}{\\gamma^{2}}} e^{\\frac{k t u}{\\gamma}}}{k k_{1}} = 1$",
            "text/plain": [
              "                                       -γ⋅t           \n",
              "                                  k⋅u⋅ℯ               \n",
              "                                  ─────────  k⋅t⋅u    \n",
              "    ⎛         ⎛     -γ⋅t⎞⎞             2     ─────    \n",
              "    ⎜     k⋅u⋅⎝1 - ℯ    ⎠⎟  -a⋅t      γ        γ      \n",
              "2⋅γ⋅⎜-a + ───────────────⎟⋅ℯ    ⋅ℯ         ⋅ℯ         \n",
              "    ⎝            γ       ⎠                            \n",
              "────────────────────────────────────────────────── = 1\n",
              "                       k⋅k₁                           "
            ]
          },
          "metadata": {
            "tags": []
          },
          "execution_count": 5
        }
      ]
    },
    {
      "cell_type": "code",
      "metadata": {
        "id": "VSXGLWHdKKle"
      },
      "source": [
        "soldeu = sym.solve(ecuaciondeu, u)"
      ],
      "execution_count": null,
      "outputs": []
    },
    {
      "cell_type": "code",
      "metadata": {
        "id": "fBITht5QKdF8",
        "colab": {
          "base_uri": "https://localhost:8080/",
          "height": 112
        },
        "outputId": "3961e325-8a63-4943-d007-ccc8a066f146"
      },
      "source": [
        "soldeu[0]"
      ],
      "execution_count": null,
      "outputs": [
        {
          "output_type": "execute_result",
          "data": {
            "image/png": "[encoded data removed]",
            "text/latex": "$\\displaystyle \\frac{\\gamma \\left(a \\left(\\gamma t e^{\\gamma t} + 1\\right) + \\gamma \\left(e^{\\gamma t} - 1\\right) W\\left(\\frac{\\left(\\gamma t e^{\\gamma t} + 1\\right) e^{- \\frac{a \\gamma t e^{\\gamma t} + a + \\gamma^{2} t \\left(e^{\\gamma t} - 1\\right) - \\gamma e^{\\gamma t} \\log{\\left(k k_{1} e^{t \\left(a + \\gamma\\right)} \\right)} + \\gamma e^{\\gamma t} \\log{\\left(2 \\right)} + \\gamma \\log{\\left(k k_{1} e^{t \\left(a + \\gamma\\right)} \\right)} - \\gamma \\log{\\left(2 \\right)}}{\\gamma \\left(e^{\\gamma t} - 1\\right)}}}{\\gamma^{2} \\left(e^{\\gamma t} - 1\\right)}\\right)\\right) e^{\\gamma t}}{k \\left(\\gamma t e^{\\gamma t} + 1\\right) \\left(e^{\\gamma t} - 1\\right)}$",
            "text/plain": [
              "  ⎛                                 ⎛                 ⎛       γ⋅t        2   ⎛\n",
              "  ⎜                                 ⎜                -⎝a⋅γ⋅t⋅ℯ    + a + γ ⋅t⋅⎝\n",
              "  ⎜                                 ⎜                ─────────────────────────\n",
              "  ⎜                                 ⎜                                         \n",
              "  ⎜                                 ⎜⎛     γ⋅t    ⎞                           \n",
              "  ⎜  ⎛     γ⋅t    ⎞     ⎛ γ⋅t    ⎞  ⎜⎝γ⋅t⋅ℯ    + 1⎠⋅ℯ                         \n",
              "γ⋅⎜a⋅⎝γ⋅t⋅ℯ    + 1⎠ + γ⋅⎝ℯ    - 1⎠⋅W⎜─────────────────────────────────────────\n",
              "  ⎜                                 ⎜                                         \n",
              "  ⎝                                 ⎝                                         \n",
              "──────────────────────────────────────────────────────────────────────────────\n",
              "                                                                             ⎛\n",
              "                                                                           k⋅⎝\n",
              "\n",
              " γ⋅t    ⎞      γ⋅t    ⎛      t⋅(a + γ)⎞      γ⋅t               ⎛      t⋅(a + γ\n",
              "ℯ    - 1⎠ - γ⋅ℯ   ⋅log⎝k⋅k₁⋅ℯ         ⎠ + γ⋅ℯ   ⋅log(2) + γ⋅log⎝k⋅k₁⋅ℯ        \n",
              "──────────────────────────────────────────────────────────────────────────────\n",
              "                              ⎛ γ⋅t    ⎞                                      \n",
              "                            γ⋅⎝ℯ    - 1⎠                                      \n",
              "                                                                              \n",
              "──────────────────────────────────────────────────────────────────────────────\n",
              "                    2 ⎛ γ⋅t    ⎞                                              \n",
              "                   γ ⋅⎝ℯ    - 1⎠                                              \n",
              "──────────────────────────────────────────────────────────────────────────────\n",
              "     γ⋅t    ⎞ ⎛ γ⋅t    ⎞                                                      \n",
              "γ⋅t⋅ℯ    + 1⎠⋅⎝ℯ    - 1⎠                                                      \n",
              "\n",
              ")⎞           ⎞ ⎞⎞     \n",
              " ⎠ - γ⋅log(2)⎠ ⎟⎟     \n",
              "───────────────⎟⎟     \n",
              "               ⎟⎟     \n",
              "               ⎟⎟     \n",
              "               ⎟⎟  γ⋅t\n",
              "───────────────⎟⎟⋅ℯ   \n",
              "               ⎟⎟     \n",
              "               ⎠⎠     \n",
              "──────────────────────\n",
              "                      \n",
              "                      "
            ]
          },
          "metadata": {
            "tags": []
          },
          "execution_count": 7
        }
      ]
    },
    {
      "cell_type": "markdown",
      "metadata": {
        "id": "Fpa70nGBQRxJ"
      },
      "source": [
        "$u(t) = \\frac{\\gamma e^{\\gamma t} \\left( a(\\gamma t e^{\\gamma t} + 1) + \\gamma (e^{\\gamma t} - 1) W \\left( z \\right) \\right)}{k(\\gamma t e^{\\gamma t} + 1)(e^{\\gamma t} - 1)} \n",
        "$\n",
        "\n",
        "$z = \\frac{(\\gamma t e^{\\gamma t} + 1) e^{- \\frac{a \\gamma t e^{\\gamma t} + a + \\gamma^{2}t(e^{\\gamma t}-1) - \\gamma e^{\\gamma t} log \\left( k k_1 e^{t(a + \\gamma)} \\right) + \\gamma e^{\\gamma t} log(2) + \\gamma log \\left( k k_1 e^{t (a + \\gamma)} \\right) - \\gamma log(2)}{\\gamma (e^{\\gamma t} - 1)}}}{\\gamma^{2} (e^{\\gamma t} - 1)}$"
      ]
    },
    {
      "cell_type": "code",
      "metadata": {
        "id": "JXQ7hSZ8wgk7",
        "colab": {
          "base_uri": "https://localhost:8080/",
          "height": 69
        },
        "outputId": "e0a8fdfb-f7db-45bc-e982-0582b1687590"
      },
      "source": [
        "str(soldeu)"
      ],
      "execution_count": null,
      "outputs": [
        {
          "output_type": "execute_result",
          "data": {
            "application/vnd.google.colaboratory.intrinsic+json": {
              "type": "string"
            },
            "text/plain": [
              "'[gamma*(a*(gamma*t*exp(gamma*t) + 1) + gamma*(exp(gamma*t) - 1)*LambertW((gamma*t*exp(gamma*t) + 1)*exp(-(a*gamma*t*exp(gamma*t) + a + gamma**2*t*(exp(gamma*t) - 1) - gamma*exp(gamma*t)*log(k*k1*exp(t*(a + gamma))) + gamma*exp(gamma*t)*log(2) + gamma*log(k*k1*exp(t*(a + gamma))) - gamma*log(2))/(gamma*(exp(gamma*t) - 1)))/(gamma**2*(exp(gamma*t) - 1))))*exp(gamma*t)/(k*(gamma*t*exp(gamma*t) + 1)*(exp(gamma*t) - 1))]'"
            ]
          },
          "metadata": {
            "tags": []
          },
          "execution_count": 8
        }
      ]
    },
    {
      "cell_type": "code",
      "metadata": {
        "id": "JEGsAh-g7Azp"
      },
      "source": [
        "\n",
        "import numpy as np\n",
        "import matplotlib.pyplot as plt\n",
        "\n",
        "import scipy.special\n",
        "a, b, c, d, e, l, f, g, h, j, k, m, q, p, s, r1, r2, u, alpha, beta, gamma, pi, gi, mui = 4.31e-1, 1.02e-9, 6.41e-11, 2.34, 2.08e-7, 2.09, 4.12e-2, 1.25e-2, 2.02e7, 2.49e-2, 3.66e7, 2.04e-1, 1.42e-6, 3.42e-6, 8.39e-2, 1.10e-7, 6.50e-11, 3.00e-10, 7.50e8, 1.20e-2, 9.00e-1, 1.25e-1, 2.00e7, 1.00e1\n",
        "k = 9.00e-1\n",
        "k1= 2e7\n",
        "\n",
        "\n"
      ],
      "execution_count": null,
      "outputs": []
    },
    {
      "cell_type": "code",
      "metadata": {
        "id": "1HCIGUA87EXt",
        "colab": {
          "base_uri": "https://localhost:8080/",
          "height": 317
        },
        "outputId": "35cf3775-823c-4220-f1c8-d38dbb988cce"
      },
      "source": [
        "def Control(t):\n",
        "  return gamma*(a*(gamma*t*np.exp(gamma*t) + 1) + gamma*(np.exp(gamma*t) - 1)*scipy.special.lambertw((gamma*t*np.exp(gamma*t) + 1)*np.exp(-(a*gamma*t*np.exp(gamma*t) + a + gamma**2*t*(np.exp(gamma*t) - 1) - gamma*np.exp(gamma*t)*np.log(k*k1*np.exp(t*(a + gamma))) + gamma*np.exp(gamma*t)*np.log(2) + gamma*np.log(k*k1*np.exp(t*(a + gamma))) - gamma*np.log(2))/(gamma*(np.exp(gamma*t) - 1)))/(gamma**2*(np.exp(gamma*t) - 1))))*np.exp(gamma*t)/(k*(gamma*t*np.exp(gamma*t) + 1)*(np.exp(gamma*t) - 1))\n",
        "t = np.linspace(1, 365, 365)\n",
        "\n",
        "u = gamma*(a*(gamma*t*np.exp(gamma*t) + 1) + gamma*(np.exp(gamma*t) - 1)*scipy.special.lambertw((gamma*t*np.exp(gamma*t) + 1)*np.exp(-(a*gamma*t*np.exp(gamma*t) + a + gamma**2*t*(np.exp(gamma*t) - 1) - gamma*np.exp(gamma*t)*np.log(k*k1*np.exp(t*(a + gamma))) + gamma*np.exp(gamma*t)*np.log(2) + gamma*np.log(k*k1*np.exp(t*(a + gamma))) - gamma*np.log(2))/(gamma*(np.exp(gamma*t) - 1)))/(gamma**2*(np.exp(gamma*t) - 1))))*np.exp(gamma*t)/(k*(gamma*t*np.exp(gamma*t) + 1)*(np.exp(gamma*t) - 1))\n",
        "\n",
        "marcador=1\n",
        "\n",
        "if marcador==1:\n",
        "  t = np.linspace(1, 365, 365)\n",
        "  plt.plot(t, u*1.5, label='Control')  \n",
        "  plt.xlabel('Tiempo')\n",
        "  plt.ylabel('Dosis')\n",
        "  plt.legend()\n",
        "  plt.show\n",
        "  #plt.xlim(-0.1,1.5)\n",
        "  #plt.ylim(0,30)"
      ],
      "execution_count": null,
      "outputs": [
        {
          "output_type": "stream",
          "text": [
            "/usr/local/lib/python3.7/dist-packages/numpy/core/_asarray.py:83: ComplexWarning: Casting complex values to real discards the imaginary part\n",
            "  return array(a, dtype, copy=False, order=order)\n"
          ],
          "name": "stderr"
        },
        {
          "output_type": "display_data",
          "data": {
            "image/png": "[encoded data removed]",
            "text/plain": [
              "<Figure size 432x288 with 1 Axes>"
            ]
          },
          "metadata": {
            "tags": [],
            "needs_background": "light"
          }
        }
      ]
    },
    {
      "cell_type": "code",
      "metadata": {
        "id": "8O0J3KslhRkg",
        "colab": {
          "base_uri": "https://localhost:8080/",
          "height": 508
        },
        "outputId": "8bad1821-e624-44b3-e17b-c888c39713d6"
      },
      "source": [
        "import numpy as np\n",
        "import matplotlib.pyplot as plt\n",
        "from scipy import integrate\n",
        "import sympy\n",
        "from scipy.integrate import odeint\n",
        " \n",
        " \n",
        " \n",
        "#### PARÁMETROS PACIENTE 9 #########\n",
        "a, b, c, d, e, l, f, g, h, j, k, m, q, p, s, r1, r2, u, alpha, beta, gamma, pi, gi, mui = 4.31e-1, 1.02e-9, 6.41e-11, 2.34, 2.08e-7, 2.09, 4.12e-2, 1.25e-2, 2.02e7, 2.49e-2, 3.66e7, 2.04e-1, 1.42e-6, 3.42e-6, 8.39e-2, 1.10e-7, 6.50e-11, 3.00e-10, 7.50e8, 1.20e-2, 9.00e-1, 1.25e-1, 2.00e7, 1.00e1\n",
        "k = 9.00e-1\n",
        "k1= 2e7\n",
        "\n",
        "\n",
        "def dP_dt(P, t):\n",
        "    T=P[0]\n",
        "    M=P[1]\n",
        "    \n",
        " \n",
        "    if 0 <= t <= 1:\n",
        "      u = 0\n",
        "    else: \n",
        "      u = gamma*(a*(gamma*t*np.exp(gamma*t) + 1) + gamma*(np.exp(gamma*t) - 1)*scipy.special.lambertw((gamma*t*np.exp(gamma*t) + 1)*np.exp(-(a*gamma*t*np.exp(gamma*t) + a + gamma**2*t*(np.exp(gamma*t) - 1) - gamma*np.exp(gamma*t)*np.log(k*k1*np.exp(t*(a + gamma))) + gamma*np.exp(gamma*t)*np.log(2) + gamma*np.log(k*k1*np.exp(t*(a + gamma))) - gamma*np.log(2))/(gamma*(np.exp(gamma*t) - 1)))/(gamma**2*(np.exp(gamma*t) - 1))))*np.exp(gamma*t)/(k*(gamma*t*np.exp(gamma*t) + 1)*(np.exp(gamma*t) - 1))\n",
        "    \n",
        "    return [a*T -  k*(1 - np.exp(-M))*T,  \n",
        "            -gamma*M + 1.5*u] \n",
        " \n",
        " \n",
        "u = gamma*(a*(gamma*t*np.exp(gamma*t) + 1) + gamma*(np.exp(gamma*t) - 1)*scipy.special.lambertw((gamma*t*np.exp(gamma*t) + 1)*np.exp(-(a*gamma*t*np.exp(gamma*t) + a + gamma**2*t*(np.exp(gamma*t) - 1) - gamma*np.exp(gamma*t)*np.log(k*k1*np.exp(t*(a + gamma))) + gamma*np.exp(gamma*t)*np.log(2) + gamma*np.log(k*k1*np.exp(t*(a + gamma))) - gamma*np.log(2))/(gamma*(np.exp(gamma*t) - 1)))/(gamma**2*(np.exp(gamma*t) - 1))))*np.exp(gamma*t)/(k*(gamma*t*np.exp(gamma*t) + 1)*(np.exp(gamma*t) - 1))\n",
        "\n",
        "t = np.linspace(1, 365., 365)\n",
        "P0 = [2e7, 0] \n",
        "sol = odeint(dP_dt, P0, t)\n",
        "Tumorales = sol[:,0]\n",
        "M = sol[:,1]\n",
        "\n",
        " \n",
        "#plt.yscale('log')\n",
        "fig,ax=plt.subplots(1,2,figsize=(12,6))\n",
        "#plt.ylim(0, 10e12)\n",
        "#ax[0].grid()\n",
        "ax[0].plot(t, Tumorales, \"r-\", label=\"Tumorales\")\n",
        "ax[0].plot(t, M, \"c-\", label=\"Quimio\")\n",
        "ax[0].set_xlabel(\"Tiempo\")\n",
        "ax[0].set_ylabel(\"Número de células\")\n",
        "ax[0].legend(loc=1);\n",
        "#ax[0].set_ylim(0, 1)\n",
        "#ax[0].set_xlim(55, 90)\n",
        "\n",
        "ax[1].plot(t, M, \"--\", label=\"Concentración de dosis\")\n",
        "ax[1].plot(t, u*1.5, \"-\", label=\"Dosis administrada\")\n",
        "ax[1].set_ylabel(\"Quimio\")\n",
        "ax[1].set_xlabel(\"Tiempo\")\n",
        "ax[1].legend(loc=1);\n",
        "ax[1].set_ylim(0, 2)\n",
        "ax[1].set_xlim(55, 90)"
      ],
      "execution_count": null,
      "outputs": [
        {
          "output_type": "stream",
          "text": [
            "/usr/local/lib/python3.7/dist-packages/scipy/integrate/odepack.py:245: ComplexWarning: Casting complex values to real discards the imaginary part\n",
            "  int(bool(tfirst)))\n",
            "/usr/local/lib/python3.7/dist-packages/numpy/core/_asarray.py:83: ComplexWarning: Casting complex values to real discards the imaginary part\n",
            "  return array(a, dtype, copy=False, order=order)\n"
          ],
          "name": "stderr"
        },
        {
          "output_type": "execute_result",
          "data": {
            "image/png": "[encoded data removed]",
            "text/latex": "$\\displaystyle \\left( 55.0, \\  90.0\\right)$",
            "text/plain": [
              "(55.0, 90.0)"
            ]
          },
          "metadata": {
            "tags": []
          },
          "execution_count": 15
        },
        {
          "output_type": "display_data",
          "data": {
            "image/png": "[encoded data removed]",
            "text/plain": [
              "<Figure size 864x432 with 2 Axes>"
            ]
          },
          "metadata": {
            "tags": [],
            "needs_background": "light"
          }
        }
      ]
    }
  ]
}